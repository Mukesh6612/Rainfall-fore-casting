{
 "cells": [
  {
   "cell_type": "code",
   "execution_count": 1,
   "metadata": {
    "colab": {
     "base_uri": "https://localhost:8080/",
     "height": 861
    },
    "id": "Vr4F-W6Z66bg",
    "outputId": "47e98484-9c38-4f7a-abf7-e2f7f1b45be1"
   },
   "outputs": [
    {
     "ename": "FileNotFoundError",
     "evalue": "[Errno 2] No such file or directory: 'file.csv'",
     "output_type": "error",
     "traceback": [
      "\u001b[1;31m---------------------------------------------------------------------------\u001b[0m",
      "\u001b[1;31mFileNotFoundError\u001b[0m                         Traceback (most recent call last)",
      "Cell \u001b[1;32mIn[1], line 14\u001b[0m\n\u001b[0;32m     10\u001b[0m \u001b[38;5;28;01mfrom\u001b[39;00m \u001b[38;5;21;01mscipy\u001b[39;00m\u001b[38;5;21;01m.\u001b[39;00m\u001b[38;5;21;01mspatial\u001b[39;00m\u001b[38;5;21;01m.\u001b[39;00m\u001b[38;5;21;01mdistance\u001b[39;00m \u001b[38;5;28;01mimport\u001b[39;00m pdist\n\u001b[0;32m     13\u001b[0m \u001b[38;5;66;03m# Load the data into a pandas dataframe\u001b[39;00m\n\u001b[1;32m---> 14\u001b[0m data \u001b[38;5;241m=\u001b[39m pd\u001b[38;5;241m.\u001b[39mread_csv(\u001b[38;5;124m'\u001b[39m\u001b[38;5;124mfile.csv\u001b[39m\u001b[38;5;124m'\u001b[39m)\n\u001b[0;32m     16\u001b[0m \u001b[38;5;66;03m# Combine the year and month columns into a single datetime column\u001b[39;00m\n\u001b[0;32m     17\u001b[0m data[\u001b[38;5;124m'\u001b[39m\u001b[38;5;124mdate\u001b[39m\u001b[38;5;124m'\u001b[39m] \u001b[38;5;241m=\u001b[39m pd\u001b[38;5;241m.\u001b[39mto_datetime(data[\u001b[38;5;124m'\u001b[39m\u001b[38;5;124myear\u001b[39m\u001b[38;5;124m'\u001b[39m]\u001b[38;5;241m.\u001b[39mastype(\u001b[38;5;28mstr\u001b[39m) \u001b[38;5;241m+\u001b[39m \u001b[38;5;124m'\u001b[39m\u001b[38;5;124m-\u001b[39m\u001b[38;5;124m'\u001b[39m \u001b[38;5;241m+\u001b[39m data[\u001b[38;5;124m'\u001b[39m\u001b[38;5;124mMonth\u001b[39m\u001b[38;5;124m'\u001b[39m], \u001b[38;5;28mformat\u001b[39m\u001b[38;5;241m=\u001b[39m\u001b[38;5;124m'\u001b[39m\u001b[38;5;124m%\u001b[39m\u001b[38;5;124mY-\u001b[39m\u001b[38;5;124m%\u001b[39m\u001b[38;5;124mB\u001b[39m\u001b[38;5;124m'\u001b[39m)\n",
      "File \u001b[1;32mC:\\ProgramData\\anaconda3\\Lib\\site-packages\\pandas\\io\\parsers\\readers.py:912\u001b[0m, in \u001b[0;36mread_csv\u001b[1;34m(filepath_or_buffer, sep, delimiter, header, names, index_col, usecols, dtype, engine, converters, true_values, false_values, skipinitialspace, skiprows, skipfooter, nrows, na_values, keep_default_na, na_filter, verbose, skip_blank_lines, parse_dates, infer_datetime_format, keep_date_col, date_parser, date_format, dayfirst, cache_dates, iterator, chunksize, compression, thousands, decimal, lineterminator, quotechar, quoting, doublequote, escapechar, comment, encoding, encoding_errors, dialect, on_bad_lines, delim_whitespace, low_memory, memory_map, float_precision, storage_options, dtype_backend)\u001b[0m\n\u001b[0;32m    899\u001b[0m kwds_defaults \u001b[38;5;241m=\u001b[39m _refine_defaults_read(\n\u001b[0;32m    900\u001b[0m     dialect,\n\u001b[0;32m    901\u001b[0m     delimiter,\n\u001b[1;32m   (...)\u001b[0m\n\u001b[0;32m    908\u001b[0m     dtype_backend\u001b[38;5;241m=\u001b[39mdtype_backend,\n\u001b[0;32m    909\u001b[0m )\n\u001b[0;32m    910\u001b[0m kwds\u001b[38;5;241m.\u001b[39mupdate(kwds_defaults)\n\u001b[1;32m--> 912\u001b[0m \u001b[38;5;28;01mreturn\u001b[39;00m _read(filepath_or_buffer, kwds)\n",
      "File \u001b[1;32mC:\\ProgramData\\anaconda3\\Lib\\site-packages\\pandas\\io\\parsers\\readers.py:577\u001b[0m, in \u001b[0;36m_read\u001b[1;34m(filepath_or_buffer, kwds)\u001b[0m\n\u001b[0;32m    574\u001b[0m _validate_names(kwds\u001b[38;5;241m.\u001b[39mget(\u001b[38;5;124m\"\u001b[39m\u001b[38;5;124mnames\u001b[39m\u001b[38;5;124m\"\u001b[39m, \u001b[38;5;28;01mNone\u001b[39;00m))\n\u001b[0;32m    576\u001b[0m \u001b[38;5;66;03m# Create the parser.\u001b[39;00m\n\u001b[1;32m--> 577\u001b[0m parser \u001b[38;5;241m=\u001b[39m TextFileReader(filepath_or_buffer, \u001b[38;5;241m*\u001b[39m\u001b[38;5;241m*\u001b[39mkwds)\n\u001b[0;32m    579\u001b[0m \u001b[38;5;28;01mif\u001b[39;00m chunksize \u001b[38;5;129;01mor\u001b[39;00m iterator:\n\u001b[0;32m    580\u001b[0m     \u001b[38;5;28;01mreturn\u001b[39;00m parser\n",
      "File \u001b[1;32mC:\\ProgramData\\anaconda3\\Lib\\site-packages\\pandas\\io\\parsers\\readers.py:1407\u001b[0m, in \u001b[0;36mTextFileReader.__init__\u001b[1;34m(self, f, engine, **kwds)\u001b[0m\n\u001b[0;32m   1404\u001b[0m     \u001b[38;5;28mself\u001b[39m\u001b[38;5;241m.\u001b[39moptions[\u001b[38;5;124m\"\u001b[39m\u001b[38;5;124mhas_index_names\u001b[39m\u001b[38;5;124m\"\u001b[39m] \u001b[38;5;241m=\u001b[39m kwds[\u001b[38;5;124m\"\u001b[39m\u001b[38;5;124mhas_index_names\u001b[39m\u001b[38;5;124m\"\u001b[39m]\n\u001b[0;32m   1406\u001b[0m \u001b[38;5;28mself\u001b[39m\u001b[38;5;241m.\u001b[39mhandles: IOHandles \u001b[38;5;241m|\u001b[39m \u001b[38;5;28;01mNone\u001b[39;00m \u001b[38;5;241m=\u001b[39m \u001b[38;5;28;01mNone\u001b[39;00m\n\u001b[1;32m-> 1407\u001b[0m \u001b[38;5;28mself\u001b[39m\u001b[38;5;241m.\u001b[39m_engine \u001b[38;5;241m=\u001b[39m \u001b[38;5;28mself\u001b[39m\u001b[38;5;241m.\u001b[39m_make_engine(f, \u001b[38;5;28mself\u001b[39m\u001b[38;5;241m.\u001b[39mengine)\n",
      "File \u001b[1;32mC:\\ProgramData\\anaconda3\\Lib\\site-packages\\pandas\\io\\parsers\\readers.py:1661\u001b[0m, in \u001b[0;36mTextFileReader._make_engine\u001b[1;34m(self, f, engine)\u001b[0m\n\u001b[0;32m   1659\u001b[0m     \u001b[38;5;28;01mif\u001b[39;00m \u001b[38;5;124m\"\u001b[39m\u001b[38;5;124mb\u001b[39m\u001b[38;5;124m\"\u001b[39m \u001b[38;5;129;01mnot\u001b[39;00m \u001b[38;5;129;01min\u001b[39;00m mode:\n\u001b[0;32m   1660\u001b[0m         mode \u001b[38;5;241m+\u001b[39m\u001b[38;5;241m=\u001b[39m \u001b[38;5;124m\"\u001b[39m\u001b[38;5;124mb\u001b[39m\u001b[38;5;124m\"\u001b[39m\n\u001b[1;32m-> 1661\u001b[0m \u001b[38;5;28mself\u001b[39m\u001b[38;5;241m.\u001b[39mhandles \u001b[38;5;241m=\u001b[39m get_handle(\n\u001b[0;32m   1662\u001b[0m     f,\n\u001b[0;32m   1663\u001b[0m     mode,\n\u001b[0;32m   1664\u001b[0m     encoding\u001b[38;5;241m=\u001b[39m\u001b[38;5;28mself\u001b[39m\u001b[38;5;241m.\u001b[39moptions\u001b[38;5;241m.\u001b[39mget(\u001b[38;5;124m\"\u001b[39m\u001b[38;5;124mencoding\u001b[39m\u001b[38;5;124m\"\u001b[39m, \u001b[38;5;28;01mNone\u001b[39;00m),\n\u001b[0;32m   1665\u001b[0m     compression\u001b[38;5;241m=\u001b[39m\u001b[38;5;28mself\u001b[39m\u001b[38;5;241m.\u001b[39moptions\u001b[38;5;241m.\u001b[39mget(\u001b[38;5;124m\"\u001b[39m\u001b[38;5;124mcompression\u001b[39m\u001b[38;5;124m\"\u001b[39m, \u001b[38;5;28;01mNone\u001b[39;00m),\n\u001b[0;32m   1666\u001b[0m     memory_map\u001b[38;5;241m=\u001b[39m\u001b[38;5;28mself\u001b[39m\u001b[38;5;241m.\u001b[39moptions\u001b[38;5;241m.\u001b[39mget(\u001b[38;5;124m\"\u001b[39m\u001b[38;5;124mmemory_map\u001b[39m\u001b[38;5;124m\"\u001b[39m, \u001b[38;5;28;01mFalse\u001b[39;00m),\n\u001b[0;32m   1667\u001b[0m     is_text\u001b[38;5;241m=\u001b[39mis_text,\n\u001b[0;32m   1668\u001b[0m     errors\u001b[38;5;241m=\u001b[39m\u001b[38;5;28mself\u001b[39m\u001b[38;5;241m.\u001b[39moptions\u001b[38;5;241m.\u001b[39mget(\u001b[38;5;124m\"\u001b[39m\u001b[38;5;124mencoding_errors\u001b[39m\u001b[38;5;124m\"\u001b[39m, \u001b[38;5;124m\"\u001b[39m\u001b[38;5;124mstrict\u001b[39m\u001b[38;5;124m\"\u001b[39m),\n\u001b[0;32m   1669\u001b[0m     storage_options\u001b[38;5;241m=\u001b[39m\u001b[38;5;28mself\u001b[39m\u001b[38;5;241m.\u001b[39moptions\u001b[38;5;241m.\u001b[39mget(\u001b[38;5;124m\"\u001b[39m\u001b[38;5;124mstorage_options\u001b[39m\u001b[38;5;124m\"\u001b[39m, \u001b[38;5;28;01mNone\u001b[39;00m),\n\u001b[0;32m   1670\u001b[0m )\n\u001b[0;32m   1671\u001b[0m \u001b[38;5;28;01massert\u001b[39;00m \u001b[38;5;28mself\u001b[39m\u001b[38;5;241m.\u001b[39mhandles \u001b[38;5;129;01mis\u001b[39;00m \u001b[38;5;129;01mnot\u001b[39;00m \u001b[38;5;28;01mNone\u001b[39;00m\n\u001b[0;32m   1672\u001b[0m f \u001b[38;5;241m=\u001b[39m \u001b[38;5;28mself\u001b[39m\u001b[38;5;241m.\u001b[39mhandles\u001b[38;5;241m.\u001b[39mhandle\n",
      "File \u001b[1;32mC:\\ProgramData\\anaconda3\\Lib\\site-packages\\pandas\\io\\common.py:859\u001b[0m, in \u001b[0;36mget_handle\u001b[1;34m(path_or_buf, mode, encoding, compression, memory_map, is_text, errors, storage_options)\u001b[0m\n\u001b[0;32m    854\u001b[0m \u001b[38;5;28;01melif\u001b[39;00m \u001b[38;5;28misinstance\u001b[39m(handle, \u001b[38;5;28mstr\u001b[39m):\n\u001b[0;32m    855\u001b[0m     \u001b[38;5;66;03m# Check whether the filename is to be opened in binary mode.\u001b[39;00m\n\u001b[0;32m    856\u001b[0m     \u001b[38;5;66;03m# Binary mode does not support 'encoding' and 'newline'.\u001b[39;00m\n\u001b[0;32m    857\u001b[0m     \u001b[38;5;28;01mif\u001b[39;00m ioargs\u001b[38;5;241m.\u001b[39mencoding \u001b[38;5;129;01mand\u001b[39;00m \u001b[38;5;124m\"\u001b[39m\u001b[38;5;124mb\u001b[39m\u001b[38;5;124m\"\u001b[39m \u001b[38;5;129;01mnot\u001b[39;00m \u001b[38;5;129;01min\u001b[39;00m ioargs\u001b[38;5;241m.\u001b[39mmode:\n\u001b[0;32m    858\u001b[0m         \u001b[38;5;66;03m# Encoding\u001b[39;00m\n\u001b[1;32m--> 859\u001b[0m         handle \u001b[38;5;241m=\u001b[39m \u001b[38;5;28mopen\u001b[39m(\n\u001b[0;32m    860\u001b[0m             handle,\n\u001b[0;32m    861\u001b[0m             ioargs\u001b[38;5;241m.\u001b[39mmode,\n\u001b[0;32m    862\u001b[0m             encoding\u001b[38;5;241m=\u001b[39mioargs\u001b[38;5;241m.\u001b[39mencoding,\n\u001b[0;32m    863\u001b[0m             errors\u001b[38;5;241m=\u001b[39merrors,\n\u001b[0;32m    864\u001b[0m             newline\u001b[38;5;241m=\u001b[39m\u001b[38;5;124m\"\u001b[39m\u001b[38;5;124m\"\u001b[39m,\n\u001b[0;32m    865\u001b[0m         )\n\u001b[0;32m    866\u001b[0m     \u001b[38;5;28;01melse\u001b[39;00m:\n\u001b[0;32m    867\u001b[0m         \u001b[38;5;66;03m# Binary mode\u001b[39;00m\n\u001b[0;32m    868\u001b[0m         handle \u001b[38;5;241m=\u001b[39m \u001b[38;5;28mopen\u001b[39m(handle, ioargs\u001b[38;5;241m.\u001b[39mmode)\n",
      "\u001b[1;31mFileNotFoundError\u001b[0m: [Errno 2] No such file or directory: 'file.csv'"
     ]
    }
   ],
   "source": [
    "import pandas as pd\n",
    "import numpy as np\n",
    "import matplotlib.pyplot as plt\n",
    "import seaborn as sns\n",
    "from sklearn.preprocessing import MinMaxScaler\n",
    "from sklearn.metrics import mean_squared_error, mean_absolute_error\n",
    "from tensorflow.keras.models import Sequential\n",
    "from tensorflow.keras.layers import Dense, GRU, Dropout\n",
    "from scipy.cluster.hierarchy import linkage, fcluster\n",
    "from scipy.spatial.distance import pdist\n",
    "\n",
    "\n",
    "# Load the data into a pandas dataframe\n",
    "data = pd.read_csv('file.csv')\n",
    "\n",
    "# Combine the year and month columns into a single datetime column\n",
    "data['date'] = pd.to_datetime(data['year'].astype(str) + '-' + data['Month'], format='%Y-%B')\n",
    "\n",
    "# Drop the original year and month columns\n",
    "data = data.drop(['year', 'Month'], axis=1)\n",
    "\n",
    "# Divide the date into quarters and add the quarter column\n",
    "data['quarter'] = data['date'].dt.quarter\n",
    "print(data)\n",
    "# Select the columns for temperature, rainfall, GHG, and CH4\n",
    "columns = ['Temperature', 'Rainfall', 'ghg', 'ch4']\n",
    "\n",
    "# Fill in missing values with their respective mean value for that column\n",
    "for col in columns:\n",
    "    data[col] = data[col].fillna(data[col].mean())\n",
    "\n",
    "# Divide the year into quarters and add the quarter column\n",
    "data['Quarter'] = data['date'].dt.quarter\n",
    "\n",
    "# Create a dictionary to store the correlation matrices for each quarter\n",
    "corr_dict = {}\n",
    "\n",
    "# Loop through each quarter and calculate the correlation matrix for temperature, rainfall, GHG, and CH4\n",
    "for quarter in range(1, 5):\n",
    "    # Select the data for the current quarter\n",
    "    quarter_data = data[data['Quarter'] == quarter]\n",
    "\n",
    "    # Select the columns for temperature, rainfall, GHG, and CH4\n",
    "    quarter_data = quarter_data[columns]\n",
    "\n",
    "    # Calculate the correlation matrix\n",
    "    corr_matrix = quarter_data.corr()\n",
    "\n",
    "    # Store the correlation matrix in the dictionary\n",
    "    corr_dict[f'Q{quarter}'] = corr_matrix\n",
    "\n",
    "# Plot the correlation matrices as lower triangle heatmaps\n",
    "for i, quarter in enumerate(corr_dict.keys()):\n",
    "    # Create a mask to plot only the lower triangle of the heatmap\n",
    "    mask = np.zeros_like(corr_dict[quarter], dtype=np.bool)\n",
    "    mask[np.triu_indices_from(mask)] = True\n",
    "\n",
    "\n",
    "    # Plot the heatmap with diagonal values included\n",
    "    plt.subplot(2, 2, i+1)\n",
    "    sns.heatmap(corr_dict[quarter], annot=True, cmap='coolwarm', mask=mask,\n",
    "                xticklabels=['Temperature', 'Rainfall', 'GHG', 'CH4'],\n",
    "                yticklabels=['Temperature', 'Rainfall', 'GHG', 'CH4'])\n",
    "\n",
    "    # Set the title and axis labels\n",
    "    plt.title(f'Correlation Matrix for {quarter} from 1901-2016')\n",
    "    plt.xlabel('Variables')\n",
    "    plt.ylabel('Variables')\n",
    "\n",
    "# Adjust the spacing between the subplots\n",
    "plt.subplots_adjust(hspace=0.5, wspace=0.3)\n",
    "\n",
    "# Show the plot\n",
    "plt.show()\n",
    "\n",
    "\n",
    "\n"
   ]
  },
  {
   "cell_type": "code",
   "execution_count": null,
   "metadata": {
    "colab": {
     "background_save": true,
     "base_uri": "https://localhost:8080/"
    },
    "id": "IOKVTIYxByYW",
    "outputId": "0f39f5f3-4d32-4b2f-e5db-e6347563af5a"
   },
   "outputs": [],
   "source": [
    "# Drop the original year and month columns\n",
    "data = data.drop(['date', 'Quarter','quarter'], axis=1)\n",
    "print(data)\n",
    "\n"
   ]
  },
  {
   "cell_type": "code",
   "execution_count": null,
   "metadata": {
    "colab": {
     "background_save": true,
     "base_uri": "https://localhost:8080/"
    },
    "id": "V6t0SdQrBurX",
    "outputId": "46e1c798-96cc-4c7d-9802-2ed6a9622bf1"
   },
   "outputs": [],
   "source": [
    "# Split the data into training and testing sets\n",
    "train_data = data.iloc[:int(len(data)*0.8), :]\n",
    "test_data = data.iloc[int(len(data)*0.8):, :]\n",
    "\n",
    "# Split the training data into training and validation sets\n",
    "val_data = train_data.iloc[int(len(train_data)*0.8):, :]\n",
    "train_data = train_data.iloc[:int(len(train_data)*0.8), :]\n",
    "\n",
    "# Scale the data\n",
    "scaler = MinMaxScaler()\n",
    "train_data = scaler.fit_transform(train_data)\n",
    "val_data = scaler.transform(val_data)\n",
    "test_data = scaler.transform(test_data)\n",
    "\n",
    "def create_dataset(data, target, time_steps):\n",
    "    X = []\n",
    "    y = []\n",
    "    for i in range(len(data)-time_steps):\n",
    "        X.append(data[i:i+time_steps])\n",
    "        y.append(target[i+time_steps])\n",
    "    return np.array(X), np.array(y)\n",
    "\n",
    "\n",
    "# Define the time steps and the number of features\n",
    "time_steps = 5\n",
    "num_features = train_data.shape[1]\n",
    "\n",
    "# Create the training dataset\n",
    "X_train, y_train = [], []\n",
    "for i in range(time_steps, len(train_data)):\n",
    "    X_train.append(train_data[i-time_steps:i])\n",
    "    y_train.append(train_data[i, 0])\n",
    "X_train, y_train = np.array(X_train), np.array(y_train)\n",
    "\n",
    "# Create the testing dataset\n",
    "X_test, y_test = [], []\n",
    "for i in range(time_steps, len(test_data)):\n",
    "    X_test.append(test_data[i-time_steps:i])\n",
    "    y_test.append(test_data[i, 0])\n",
    "X_test, y_test = np.array(X_test), np.array(y_test)\n",
    "\n",
    "# Print the shapes of the datasets\n",
    "print(\"Training set shape: \", X_train.shape, y_train.shape)\n",
    "print(\"Validation set shape: \", val_data.shape)\n",
    "print(\"Testing set shape: \", X_test.shape, y_test.shape)\n"
   ]
  },
  {
   "cell_type": "code",
   "execution_count": null,
   "metadata": {
    "colab": {
     "base_uri": "https://localhost:8080/"
    },
    "id": "0voVitRqBhnb",
    "outputId": "4c99d7a5-da45-41f3-97a1-31366eb839fb"
   },
   "outputs": [],
   "source": [
    "# Create the model\n",
    "model = Sequential()\n",
    "model.add(GRU(256, return_sequences=True, input_shape=(None, num_features)))\n",
    "model.add(Dropout(0.5))\n",
    "model.add(GRU(128, return_sequences=True))\n",
    "model.add(Dropout(0.5))\n",
    "model.add(GRU(64, return_sequences=True))\n",
    "model.add(Dropout(0.5))\n",
    "model.add(GRU(32))\n",
    "model.add(Dropout(0.5))\n",
    "model.add(Dense(units=1))\n",
    "\n",
    "# Print the model summary\n",
    "print(model.summary())\n",
    "\n",
    "# Compile the model\n",
    "model.compile(optimizer='adam', loss='mean_absolute_error')\n",
    "\n",
    "# Train the model\n",
    "history = model.fit(X_train, y_train, epochs=400, batch_size=64, validation_data=(X_test, y_test), verbose=1)\n",
    "\n",
    "# Predict the test data\n",
    "y_pred = model.predict(X_test)\n"
   ]
  },
  {
   "cell_type": "code",
   "execution_count": null,
   "metadata": {
    "id": "FtyYjXb8I8Jk"
   },
   "outputs": [],
   "source": []
  },
  {
   "cell_type": "code",
   "execution_count": null,
   "metadata": {
    "colab": {
     "base_uri": "https://localhost:8080/"
    },
    "id": "CRXrBWK7ODDx",
    "outputId": "05918926-dbc0-4745-fd1a-89911bb6a9dd"
   },
   "outputs": [],
   "source": [
    "n_features = 1\n",
    "scaler = MinMaxScaler(feature_range=(0, 1))\n",
    "scaler.fit(train_data.reshape(-1, n_features))\n",
    "\n",
    "# Inverse scale the data\n",
    "y_test = scaler.inverse_transform(y_test.reshape(-1, 1))\n",
    "y_pred = scaler.inverse_transform(y_pred.reshape(-1, 1))\n",
    "\n",
    "# Calculate the evaluation metrics\n",
    "mae = mean_absolute_error(y_test, y_pred)\n",
    "nmae_test = mae / (np.max(y_test) - np.min(y_test))\n",
    "mse = mean_squared_error(y_test, y_pred)\n",
    "nrmse_test = np.sqrt(mse) / (np.max(y_test) - np.min(y_test))\n",
    "\n",
    "# Calculate the evaluation metrics for training set\n",
    "y_train_pred = model.predict(X_train)\n",
    "y_train = y_train.reshape(-1, 1)\n",
    "y_train_pred = scaler.inverse_transform(y_train_pred.reshape(-1, 1))\n",
    "mae_train = mean_absolute_error(y_train, y_train_pred)\n",
    "nmae_train = mae_train / (np.max(y_train) - np.min(y_train))\n",
    "mse_train = mean_squared_error(y_train, y_train_pred)\n",
    "nrmse_train = np.sqrt(mse_train) / (np.max(y_train) - np.min(y_train))\n",
    "\n",
    "# Calculate the average NMAE and NRMSE\n",
    "nmae_avg = np.mean([nmae_train, nmae_test])\n",
    "nrmse_avg = np.mean([nrmse_train, nrmse_test])\n",
    "\n",
    "\n",
    "# Print the evaluation metrics\n",
    "print(\"NMAE Train: \", nmae_train)\n",
    "print(\"NMAE Test: \", nmae_test)\n",
    "print(\"Average NMAE: \", nmae_avg)\n",
    "print(\"NRMSE TEST:\",nrmse_test)\n",
    "print(\"NRMSE Train: \", nrmse_train)\n",
    "print(\"Average NMAE: \", nmae_avg)\n"
   ]
  },
  {
   "cell_type": "code",
   "execution_count": null,
   "metadata": {
    "colab": {
     "base_uri": "https://localhost:8080/",
     "height": 907
    },
    "id": "DKK3DjRrBKRV",
    "outputId": "74d441ed-ea59-46f4-edcf-7af2816c36cd"
   },
   "outputs": [],
   "source": [
    "# Plot the training and validation losses\n",
    "plt.plot(history.history['loss'], label='Training Loss')\n",
    "plt.plot(history.history['val_loss'], label='Validation Loss')\n",
    "plt.title('Training and Validation Losses')\n",
    "plt.xlabel('Epoch')\n",
    "plt.ylabel('Loss')\n",
    "plt.legend()\n",
    "plt.show()\n",
    "import seaborn as sns\n",
    "# Create a heatmap of the correlation matrix\n",
    "sns.heatmap(corr_matrix, annot=True, cmap='coolwarm')\n",
    "plt.title('Correlation Matrix')\n",
    "plt.show()"
   ]
  },
  {
   "cell_type": "code",
   "execution_count": null,
   "metadata": {
    "colab": {
     "background_save": true,
     "base_uri": "https://localhost:8080/",
     "height": 787
    },
    "id": "tMXOa8wto9Uf",
    "outputId": "d096791e-9df9-4d67-84a0-d59c3bea109c"
   },
   "outputs": [],
   "source": [
    "import matplotlib.pyplot as plt\n",
    "import numpy as np\n",
    "\n",
    "# Convert the actual and predicted values to a 1D numpy array\n",
    "y_test = y_test.ravel()\n",
    "y_pred= y_pred.ravel()\n",
    "\n",
    "# Define the quarters and years\n",
    "quarters = ['Q1', 'Q2', 'Q3', 'Q4']\n",
    "start_year = 1901\n",
    "end_year = 2016\n",
    "year_step = 3\n",
    "years = np.arange(start_year, end_year+1, year_step)\n",
    "\n",
    "# Create a figure with subplots for each quarter\n",
    "fig, axs = plt.subplots(nrows=4, ncols=1, figsize=(15, 10), sharex=True)\n",
    "\n",
    "# Loop through each quarter and plot the actual and predicted values\n",
    "for i, quarter in enumerate(quarters):\n",
    "    # Get the indices for the current quarter\n",
    "    quarter_indices = np.arange(i, len(years)*len(quarters), len(quarters))\n",
    "\n",
    "    # Plot the actual and predicted values for the current quarter\n",
    "    axs[i].plot(years, y_test[quarter_indices], label='Actual')\n",
    "    axs[i].plot(years, y_pred[quarter_indices], label='Predicted')\n",
    "    axs[i].set_title(f'Quarterly Rainfall ({quarter})')\n",
    "    axs[i].set_ylabel('Rainfall (mm)')\n",
    "\n",
    "# Add a legend and x-axis label to the bottom plot\n",
    "axs[-1].set_xlabel('Year')\n",
    "axs[-1].legend()\n",
    "\n",
    "# Adjust the spacing between subplots and save the figure\n",
    "plt.tight_layout()\n",
    "plt.savefig('actual_vs_predicted_rainfall.png')\n",
    "\n"
   ]
  }
 ],
 "metadata": {
  "colab": {
   "provenance": []
  },
  "kernelspec": {
   "display_name": "Python 3 (ipykernel)",
   "language": "python",
   "name": "python3"
  },
  "language_info": {
   "codemirror_mode": {
    "name": "ipython",
    "version": 3
   },
   "file_extension": ".py",
   "mimetype": "text/x-python",
   "name": "python",
   "nbconvert_exporter": "python",
   "pygments_lexer": "ipython3",
   "version": "3.11.5"
  }
 },
 "nbformat": 4,
 "nbformat_minor": 1
}
